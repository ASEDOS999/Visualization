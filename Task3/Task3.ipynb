{
 "cells": [
  {
   "cell_type": "markdown",
   "metadata": {},
   "source": [
    "# Task 3. Label Placement\n",
    "\n",
    "## Выполнил Курузов Илья"
   ]
  },
  {
   "cell_type": "code",
   "execution_count": 1,
   "metadata": {},
   "outputs": [],
   "source": [
    "import numpy as np\n",
    "\n",
    "import matplotlib\n",
    "import matplotlib.pyplot as plt\n",
    "from matplotlib.patches import Rectangle\n",
    "\n",
    "from pysat.solvers import Glucose3"
   ]
  },
  {
   "cell_type": "code",
   "execution_count": 2,
   "metadata": {},
   "outputs": [],
   "source": [
    "matplotlib.use('Agg')\n",
    "params = {'legend.fontsize': 20,\n",
    "          'legend.handlelength': 4,\n",
    "          \"axes.labelsize\": 45,\n",
    "          \"xtick.labelsize\": 25,\n",
    "          \"ytick.labelsize\": 25,\n",
    "          \"lines.linewidth\": 4,\n",
    "           \"axes.titlesize\":30}\n",
    "matplotlib.rcParams.update(params)"
   ]
  },
  {
   "cell_type": "markdown",
   "metadata": {},
   "source": [
    "Классы `Pos` и `Box` являются модифицированными классами, написанными Игорем Дьяченко и предоствленными в общем телеграмм канале. Для дальнейшей работы, мне удобней работать, когда позиция задается нижним левым углом, из-за чего и пришлось вносить коррективы."
   ]
  },
  {
   "cell_type": "code",
   "execution_count": 3,
   "metadata": {},
   "outputs": [],
   "source": [
    "class Pos:\n",
    "    def __init__(self, *arr):\n",
    "        assert len(arr) == 2\n",
    "        self.xy = np.array(arr)\n",
    "    \n",
    "    def __add__(self, that):\n",
    "        return [a + b for a, b in zip(self.xy, that.xy)]\n",
    "    \n",
    "    def __sub__(self, that):\n",
    "        return [a - b for a, b in zip(self.xy, that.xy)]\n",
    "    \n",
    "    def __neg__(self):\n",
    "        return [-a for a in self.xy]\n",
    "    \n",
    "    def __str__(self):\n",
    "        return str(self.xy)\n",
    "    \n",
    "    def __repr__(self):\n",
    "        return str(self)\n",
    "    \n",
    "    def parse(s):\n",
    "        arr = [int(a) for a in s.split(',')]\n",
    "        return Pos(*arr)\n",
    "\n",
    "\n",
    "class Box:\n",
    "    def __init__(self, line):\n",
    "        arr = line.split('\\t')\n",
    "        self.pos = Pos.parse(arr[0])\n",
    "        self.size = Pos.parse(arr[1])\n",
    "        self.offsets = [Pos.parse(pos) for pos in arr[2].split(' ')]\n",
    "        for offset in self.offsets:\n",
    "            offset.xy += self.pos.xy - self.size.xy\n",
    "        assert len(self.offsets) > 0\n",
    "    \n",
    "    def __str__(self):\n",
    "        return 'Box(pos={}, size={}, offsets={})'.format(self.pos, self.size, self.offsets)\n",
    "    \n",
    "    def __repr__(self):\n",
    "        return str(self)"
   ]
  },
  {
   "cell_type": "code",
   "execution_count": 4,
   "metadata": {},
   "outputs": [],
   "source": [
    "def parse_raw_data(raw_data):\n",
    "    boxes = [Box(line) for line in raw_data.strip().split('\\n')]\n",
    "    return boxes"
   ]
  },
  {
   "cell_type": "markdown",
   "metadata": {},
   "source": [
    "Реализуем метод для произвольного количества возможных положений подписи.\n",
    "\n",
    "Пусть есть $n$ точек, для $j$-ой точки есть $k_j\\geq 1$ возможных положений подписи. Тогда заведем $\\sum\\limits_{j=1}^n k_j$ булевских переменных вида $x_{i, j}$ - стоит ли на $j$-ом месте для $i$-ой точки подпись.\n",
    "\n",
    "Пусть $A_{i,j}$ - множество точек, которое покроет $j$-ое положение подписи $i$-ой точки.\n",
    "\n",
    "Определим множество конфликтных пар $$K=\\left\\{((i_1, j_1), (i_2, j_2)):\\substack{i_1\\neq i_2\\\\\n",
    "A_{i_1,j_1}\\cap A_{i_2,j_2}\\neq \\emptyset}\\right\\}.$$\n",
    "\n",
    "В таком случае нужно проверить выполнимость булевской формулы.\n",
    "\n",
    "$$\\bigwedge\\limits_{j=1}^n \\left(\\bigvee\\limits_{i=1}^{k_j} x_{j,i}\\right) \\bigwedge \\bigwedge\\limits_{(\\alpha,\\beta)\\in K} \\left(\\overline{x_{\\alpha}}\\vee \\overline{x_{\\beta}}\\right)$$\n",
    "\n",
    "Левая часть отвечает за то, чтобы у каждой точки была подпись, правая - за отсутсвие конфликтов.\n",
    "\n",
    "Заметим, что в данной концепции выполняющий набор может содержать больше одной единицы в наборе переменных $\\{x_{j,i}\\}_i$ для некоторого $j$. В таком случае, в качестве решения мы выберем лексигрофически первое положение."
   ]
  },
  {
   "cell_type": "code",
   "execution_count": 5,
   "metadata": {},
   "outputs": [],
   "source": [
    "def cap(size1, pos1, size2, pos2):\n",
    "    if pos1[1] > pos2[1]:\n",
    "        # After that the first element is under the second\n",
    "        size1, pos1, size2, pos2 = size2, pos2, size1, pos1\n",
    "    hr1 = pos1 + size1\n",
    "    hr2 = pos2 + size2\n",
    "    if hr1[1] < pos2[1]:\n",
    "        # The first position is under the second without intersection\n",
    "        return False\n",
    "    if hr1[0] < pos2[0] or pos1[0] > hr2[0]:\n",
    "        return False\n",
    "    return True\n",
    "\n",
    "def ind_cap(size1, offset1, size2, offset2):\n",
    "    res = []\n",
    "    for ind1, pos1 in enumerate(offset1):\n",
    "        for ind2, pos2 in enumerate(offset2):\n",
    "            if cap(size1.xy, pos1.xy, size2.xy, pos2.xy):\n",
    "                res.append((ind1, ind2))\n",
    "    return res\n",
    "            \n",
    "\n",
    "def get_model(boxes):\n",
    "    variables = {}\n",
    "    s = 1\n",
    "    clauses = []\n",
    "    for ind_box, box in enumerate(boxes):\n",
    "        cur_clause = []\n",
    "        for ind_set, _ in enumerate(box.offsets):\n",
    "            variables[(ind_box, ind_set)] = s\n",
    "            cur_clause.append(s)\n",
    "            s += 1\n",
    "        clauses.append(cur_clause)\n",
    "    for ind_i, i in enumerate(boxes):\n",
    "        for ind_j, j in enumerate(boxes):\n",
    "            if ind_i != ind_j:\n",
    "                K = ind_cap(i.size, i.offsets, j.size, j.offsets)\n",
    "                for i_o, j_o in K:\n",
    "                    a = variables[(ind_i, i_o)]\n",
    "                    b = variables[(ind_j, j_o)]\n",
    "                    clauses.append([-1 * a, -1 * b])\n",
    "    return variables, clauses"
   ]
  },
  {
   "cell_type": "markdown",
   "metadata": {},
   "source": [
    "Для решения проблемы SAT будем использовать пакет PySAT."
   ]
  },
  {
   "cell_type": "code",
   "execution_count": 6,
   "metadata": {},
   "outputs": [],
   "source": [
    "def solve_SAT(clauses):\n",
    "    g = Glucose3()\n",
    "    [g.add_clause(clause) for clause in clauses]\n",
    "    g.solve()\n",
    "    return g.get_model()"
   ]
  },
  {
   "cell_type": "code",
   "execution_count": 7,
   "metadata": {},
   "outputs": [],
   "source": [
    "def parse_solution(solution, variables, boxes):\n",
    "    if solution is None:\n",
    "        return None\n",
    "    pos = []\n",
    "    for ind, box in enumerate(boxes):\n",
    "        for j, offset in enumerate(box.offsets):\n",
    "            if variables[(ind, j)] in solution:\n",
    "                pos.append(j)\n",
    "                break\n",
    "    return pos"
   ]
  },
  {
   "cell_type": "code",
   "execution_count": 8,
   "metadata": {},
   "outputs": [],
   "source": [
    "def plot_pos(boxes, pos, ax=None):\n",
    "    if ax is None:\n",
    "        fig, ax = plt.subplots(figsize=(16, 10))\n",
    "    for ind, box in enumerate(boxes):\n",
    "        ax.add_patch(Rectangle(box.offsets[pos[ind]].xy, box.size.xy[0], box.size.xy[1], \n",
    "                               linewidth=1, edgecolor='r', facecolor='None'))\n",
    "    x = [box.pos.xy[0] for box in boxes]\n",
    "    y = [box.pos.xy[1] for box in boxes]\n",
    "    plt.scatter(x, y)\n",
    "    plt.show()"
   ]
  },
  {
   "cell_type": "code",
   "execution_count": 9,
   "metadata": {},
   "outputs": [],
   "source": [
    "def process_file(file_name):\n",
    "    with open(file_name, \"r\") as f:\n",
    "        raw_data = f.read()\n",
    "    boxes = parse_raw_data(raw_data)\n",
    "    print(\"Boxes:\")\n",
    "    for ind, box in enumerate(boxes):\n",
    "        print(ind, box)\n",
    "    variables, clauses = get_model(boxes)\n",
    "\n",
    "    solution = solve_SAT(clauses)\n",
    "    if solution is None:\n",
    "        print(\"There is not label placement\")\n",
    "    pos = parse_solution(solution, variables, boxes)\n",
    "    plot_pos(boxes,pos)\n",
    "    plt.show()"
   ]
  },
  {
   "cell_type": "code",
   "execution_count": 10,
   "metadata": {},
   "outputs": [
    {
     "name": "stdout",
     "output_type": "stream",
     "text": [
      "Boxes:\n",
      "0 Box(pos=[45 15], size=[20 10], offsets=[[25  5], [45  5], [25 15], [45 15]])\n",
      "1 Box(pos=[50 15], size=[20 10], offsets=[[30  5], [50  5], [30 15], [50 15]])\n",
      "2 Box(pos=[25 30], size=[20 10], offsets=[[ 5 20], [25 20], [ 5 30], [25 30]])\n",
      "3 Box(pos=[30 20], size=[20 10], offsets=[[10 10], [30 10], [10 20], [30 20]])\n",
      "4 Box(pos=[55 20], size=[20 10], offsets=[[35 10], [55 10], [35 20], [55 20]])\n",
      "5 Box(pos=[40 35], size=[20 10], offsets=[[20 25], [40 25], [20 35], [40 35]])\n",
      "6 Box(pos=[45 35], size=[20 10], offsets=[[25 25], [45 25], [25 35], [45 35]])\n"
     ]
    },
    {
     "data": {
      "image/png": "[encoded data removed]",
      "text/plain": [
       "<Figure size 1152x720 with 1 Axes>"
      ]
     },
     "metadata": {
      "needs_background": "light"
     },
     "output_type": "display_data"
    }
   ],
   "source": [
    "%matplotlib inline\n",
    "process_file(\"bricks.txt\")"
   ]
  },
  {
   "cell_type": "code",
   "execution_count": 11,
   "metadata": {},
   "outputs": [
    {
     "name": "stdout",
     "output_type": "stream",
     "text": [
      "Boxes:\n",
      "0 Box(pos=[25 20], size=[10 10], offsets=[[15 10], [25 10], [15 20], [25 20]])\n",
      "1 Box(pos=[25 40], size=[10 30], offsets=[[15 10], [25 10], [15 25], [25 25], [15 40], [25 40]])\n",
      "2 Box(pos=[25 60], size=[10 10], offsets=[[15 50], [25 50], [15 60], [25 60]])\n",
      "3 Box(pos=[40 25], size=[20 10], offsets=[[20 15], [30 15], [40 15], [20 25], [30 25], [40 25]])\n",
      "4 Box(pos=[40 40], size=[20 20], offsets=[[20 20], [30 20], [40 20], [20 30], [30 30], [40 30], [20 40], [30 40], [40 40]])\n",
      "5 Box(pos=[40 55], size=[20 10], offsets=[[20 45], [30 45], [40 45], [20 55], [30 55], [40 55]])\n",
      "6 Box(pos=[55 35], size=[10 20], offsets=[[45 15], [55 15], [45 25], [55 25], [45 35], [55 35]])\n",
      "7 Box(pos=[55 40], size=[10 20], offsets=[[45 20], [55 20], [45 30], [55 30], [45 40], [55 40]])\n"
     ]
    },
    {
     "data": {
      "image/png": "[encoded data removed]",
      "text/plain": [
       "<Figure size 1152x720 with 1 Axes>"
      ]
     },
     "metadata": {
      "needs_background": "light"
     },
     "output_type": "display_data"
    }
   ],
   "source": [
    "%matplotlib inline\n",
    "process_file(\"frame.txt\")"
   ]
  },
  {
   "cell_type": "code",
   "execution_count": 12,
   "metadata": {},
   "outputs": [
    {
     "name": "stdout",
     "output_type": "stream",
     "text": [
      "Boxes:\n",
      "0 Box(pos=[20 20], size=[10 10], offsets=[[10 10], [20 10], [10 20], [20 20]])\n",
      "1 Box(pos=[20 25], size=[10 10], offsets=[[10 15], [20 15], [10 25], [20 25]])\n",
      "2 Box(pos=[25 20], size=[10 10], offsets=[[15 10], [25 10], [15 20], [25 20]])\n",
      "3 Box(pos=[25 25], size=[10 10], offsets=[[15 15], [25 15], [15 25], [25 25]])\n"
     ]
    },
    {
     "data": {
      "image/png": "[encoded data removed]",
      "text/plain": [
       "<Figure size 1152x720 with 1 Axes>"
      ]
     },
     "metadata": {
      "needs_background": "light"
     },
     "output_type": "display_data"
    }
   ],
   "source": [
    "%matplotlib inline\n",
    "process_file(\"test4.txt\")"
   ]
  },
  {
   "cell_type": "code",
   "execution_count": 13,
   "metadata": {},
   "outputs": [
    {
     "name": "stdout",
     "output_type": "stream",
     "text": [
      "Boxes:\n",
      "0 Box(pos=[20 20], size=[10 10], offsets=[[10 10], [20 10], [10 20], [20 20]])\n",
      "1 Box(pos=[20 25], size=[10 10], offsets=[[10 15], [20 15], [10 25], [20 25]])\n",
      "2 Box(pos=[25 20], size=[10 10], offsets=[[15 10], [25 10], [15 20], [25 20]])\n",
      "3 Box(pos=[25 25], size=[10 10], offsets=[[15 15], [25 15], [15 25], [25 25]])\n",
      "4 Box(pos=[20 60], size=[10 10], offsets=[[10 50], [20 50], [10 60], [20 60]])\n",
      "5 Box(pos=[20 65], size=[10 10], offsets=[[10 55], [20 55], [10 65], [20 65]])\n",
      "6 Box(pos=[25 60], size=[10 10], offsets=[[15 50], [25 50], [15 60], [25 60]])\n",
      "7 Box(pos=[25 65], size=[10 10], offsets=[[15 55], [25 55], [15 65], [25 65]])\n",
      "8 Box(pos=[60 20], size=[10 10], offsets=[[50 10], [60 10], [50 20], [60 20]])\n",
      "9 Box(pos=[60 25], size=[10 10], offsets=[[50 15], [60 15], [50 25], [60 25]])\n",
      "10 Box(pos=[65 20], size=[10 10], offsets=[[55 10], [65 10], [55 20], [65 20]])\n",
      "11 Box(pos=[65 25], size=[10 10], offsets=[[55 15], [65 15], [55 25], [65 25]])\n",
      "12 Box(pos=[60 60], size=[10 10], offsets=[[50 50], [60 50], [50 60], [60 60]])\n",
      "13 Box(pos=[60 65], size=[10 10], offsets=[[50 55], [60 55], [50 65], [60 65]])\n",
      "14 Box(pos=[65 60], size=[10 10], offsets=[[55 50], [65 50], [55 60], [65 60]])\n",
      "15 Box(pos=[65 65], size=[10 10], offsets=[[55 55], [65 55], [55 65], [65 65]])\n"
     ]
    },
    {
     "data": {
      "image/png": "[encoded data removed]",
      "text/plain": [
       "<Figure size 1152x720 with 1 Axes>"
      ]
     },
     "metadata": {
      "needs_background": "light"
     },
     "output_type": "display_data"
    }
   ],
   "source": [
    "%matplotlib inline\n",
    "process_file(\"test16.txt\")"
   ]
  },
  {
   "cell_type": "code",
   "execution_count": null,
   "metadata": {},
   "outputs": [],
   "source": []
  }
 ],
 "metadata": {
  "kernelspec": {
   "display_name": "Python 3",
   "language": "python",
   "name": "python3"
  },
  "language_info": {
   "codemirror_mode": {
    "name": "ipython",
    "version": 3
   },
   "file_extension": ".py",
   "mimetype": "text/x-python",
   "name": "python",
   "nbconvert_exporter": "python",
   "pygments_lexer": "ipython3",
   "version": "3.7.3"
  }
 },
 "nbformat": 4,
 "nbformat_minor": 2
}
